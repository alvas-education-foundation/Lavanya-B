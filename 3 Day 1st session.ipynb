{
  "nbformat": 4,
  "nbformat_minor": 0,
  "metadata": {
    "colab": {
      "name": "3 Day 1st session.ipynb",
      "provenance": [],
      "collapsed_sections": []
    },
    "kernelspec": {
      "name": "python3",
      "display_name": "Python 3"
    }
  },
  "cells": [
    {
      "cell_type": "markdown",
      "metadata": {
        "id": "v6YRrdbifzJj",
        "colab_type": "text"
      },
      "source": [
        "Program to create series"
      ]
    },
    {
      "cell_type": "code",
      "metadata": {
        "id": "D4o9RG7QfrNP",
        "colab_type": "code",
        "colab": {
          "base_uri": "https://localhost:8080/",
          "height": 295
        },
        "outputId": "dec7d51a-2138-4b37-cd01-31a886f5c183"
      },
      "source": [
        "import pandas as pd # Import Panda Library\n",
        "\n",
        "# Program to Create series with scalar values\n",
        "Data =[1, 3, 4, 5, 6, 2, 9] # Numeric data\n",
        "# Creating series with default index values\n",
        "s = pd.Series(Data)\n",
        "print(s)\n",
        "# predefined index values\n",
        "Index =['a', 'b', 'c', 'd', 'e', 'f', 'g']\n",
        "# Create series with Data, and Index\n",
        "a = pd.Series(Data, index = Index)\n",
        "a"
      ],
      "execution_count": null,
      "outputs": [
        {
          "output_type": "stream",
          "text": [
            "0    1\n",
            "1    3\n",
            "2    4\n",
            "3    5\n",
            "4    6\n",
            "5    2\n",
            "6    9\n",
            "dtype: int64\n"
          ],
          "name": "stdout"
        },
        {
          "output_type": "execute_result",
          "data": {
            "text/plain": [
              "a    1\n",
              "b    3\n",
              "c    4\n",
              "d    5\n",
              "e    6\n",
              "f    2\n",
              "g    9\n",
              "dtype: int64"
            ]
          },
          "metadata": {
            "tags": []
          },
          "execution_count": 1
        }
      ]
    },
    {
      "cell_type": "markdown",
      "metadata": {
        "id": "poZQhkGdgBNo",
        "colab_type": "text"
      },
      "source": [
        "Converting Pandas Series to Python list"
      ]
    },
    {
      "cell_type": "code",
      "metadata": {
        "id": "YDExs8l8gJLh",
        "colab_type": "code",
        "colab": {
          "base_uri": "https://localhost:8080/",
          "height": 173
        },
        "outputId": "d9c8f5de-e012-4cb8-9610-90ad658c7c53"
      },
      "source": [
        "import pandas as pd\n",
        "ds = pd.Series([2, 4, 6, 8, 10])\n",
        "print(\"Pandas Series\")\n",
        "print(ds)\n",
        "print(\"Convert Pandas Series to Python list\")\n",
        "ds.tolist()"
      ],
      "execution_count": null,
      "outputs": [
        {
          "output_type": "stream",
          "text": [
            "Pandas Series\n",
            "0     2\n",
            "1     4\n",
            "2     6\n",
            "3     8\n",
            "4    10\n",
            "dtype: int64\n",
            "Convert Pandas Series to Python list\n"
          ],
          "name": "stdout"
        },
        {
          "output_type": "execute_result",
          "data": {
            "text/plain": [
              "[2, 4, 6, 8, 10]"
            ]
          },
          "metadata": {
            "tags": []
          },
          "execution_count": 2
        }
      ]
    },
    {
      "cell_type": "markdown",
      "metadata": {
        "id": "J_eQZQq4gMwo",
        "colab_type": "text"
      },
      "source": [
        "Program to Create Dictionary into Series"
      ]
    },
    {
      "cell_type": "code",
      "metadata": {
        "id": "mlVc84uUgQtX",
        "colab_type": "code",
        "colab": {
          "base_uri": "https://localhost:8080/",
          "height": 139
        },
        "outputId": "f4ff59a3-1950-47ea-a790-daae9c28634c"
      },
      "source": [
        "dictionary ={'a':1, 'b':2, 'c':3, 'd':4, 'e':5, 'f':6}\n",
        "# Creating series of Dictionary type\n",
        "sd = pd.Series(dictionary)\n",
        "sd"
      ],
      "execution_count": null,
      "outputs": [
        {
          "output_type": "execute_result",
          "data": {
            "text/plain": [
              "a    1\n",
              "b    2\n",
              "c    3\n",
              "d    4\n",
              "e    5\n",
              "f    6\n",
              "dtype: int64"
            ]
          },
          "metadata": {
            "tags": []
          },
          "execution_count": 3
        }
      ]
    },
    {
      "cell_type": "markdown",
      "metadata": {
        "id": "Uc4ednEWgWJu",
        "colab_type": "text"
      },
      "source": [
        "Program to Create ndarray series"
      ]
    },
    {
      "cell_type": "code",
      "metadata": {
        "id": "VGqSCBrcgZZx",
        "colab_type": "code",
        "colab": {
          "base_uri": "https://localhost:8080/",
          "height": 87
        },
        "outputId": "c4a8770f-d416-4d73-c05e-68dc19b92ea8"
      },
      "source": [
        "Data =[[2, 3, 4], [5, 6, 7]] # Defining 2darray\n",
        "print(Data)\n",
        "# Creating series of 2darray\n",
        "snd = pd.Series(Data)\n",
        "snd"
      ],
      "execution_count": null,
      "outputs": [
        {
          "output_type": "stream",
          "text": [
            "[[2, 3, 4], [5, 6, 7]]\n"
          ],
          "name": "stdout"
        },
        {
          "output_type": "execute_result",
          "data": {
            "text/plain": [
              "0    [2, 3, 4]\n",
              "1    [5, 6, 7]\n",
              "dtype: object"
            ]
          },
          "metadata": {
            "tags": []
          },
          "execution_count": 4
        }
      ]
    },
    {
      "cell_type": "markdown",
      "metadata": {
        "id": "Tu-jre_mglys",
        "colab_type": "text"
      },
      "source": [
        "Program to Create DataFrame"
      ]
    },
    {
      "cell_type": "code",
      "metadata": {
        "id": "AmBs-WTjgpYO",
        "colab_type": "code",
        "colab": {
          "base_uri": "https://localhost:8080/",
          "height": 110
        },
        "outputId": "68263f0a-ead6-4cc4-a732-0afaf3044c97"
      },
      "source": [
        "import pandas as pd\n",
        "# Import Library\n",
        "a = pd.DataFrame(Data)\n",
        "a"
      ],
      "execution_count": null,
      "outputs": [
        {
          "output_type": "execute_result",
          "data": {
            "text/html": [
              "<div>\n",
              "<style scoped>\n",
              "    .dataframe tbody tr th:only-of-type {\n",
              "        vertical-align: middle;\n",
              "    }\n",
              "\n",
              "    .dataframe tbody tr th {\n",
              "        vertical-align: top;\n",
              "    }\n",
              "\n",
              "    .dataframe thead th {\n",
              "        text-align: right;\n",
              "    }\n",
              "</style>\n",
              "<table border=\"1\" class=\"dataframe\">\n",
              "  <thead>\n",
              "    <tr style=\"text-align: right;\">\n",
              "      <th></th>\n",
              "      <th>0</th>\n",
              "      <th>1</th>\n",
              "      <th>2</th>\n",
              "    </tr>\n",
              "  </thead>\n",
              "  <tbody>\n",
              "    <tr>\n",
              "      <th>0</th>\n",
              "      <td>2</td>\n",
              "      <td>3</td>\n",
              "      <td>4</td>\n",
              "    </tr>\n",
              "    <tr>\n",
              "      <th>1</th>\n",
              "      <td>5</td>\n",
              "      <td>6</td>\n",
              "      <td>7</td>\n",
              "    </tr>\n",
              "  </tbody>\n",
              "</table>\n",
              "</div>"
            ],
            "text/plain": [
              "   0  1  2\n",
              "0  2  3  4\n",
              "1  5  6  7"
            ]
          },
          "metadata": {
            "tags": []
          },
          "execution_count": 5
        }
      ]
    },
    {
      "cell_type": "markdown",
      "metadata": {
        "id": "swaZ5UjzguUn",
        "colab_type": "text"
      },
      "source": [
        "converting multiple dictionaries into pandas data frame"
      ]
    },
    {
      "cell_type": "code",
      "metadata": {
        "id": "7xtypDNKgy5R",
        "colab_type": "code",
        "colab": {
          "base_uri": "https://localhost:8080/",
          "height": 202
        },
        "outputId": "50409b37-f8c6-4166-a13d-551d06cac3c2"
      },
      "source": [
        "dict1 ={'a':35.2,'b':47,'c':77,'d':49} # Define Dictionary 1\n",
        "dict2 ={'a':53,'b':69,'c':79,'d':81,'e':91} # Define Dictionary 2\n",
        "dict3 ={'a':56,'b':98,'c':77,'d':81,'e':90} # Define Dictionary 3\n",
        "Data = {'Maths':dict1, 'Physics':dict2,'Chemistry': dict3} # Define Data with dict1\n",
        "df = pd.DataFrame(Data)\n",
        "df"
      ],
      "execution_count": null,
      "outputs": [
        {
          "output_type": "execute_result",
          "data": {
            "text/html": [
              "<div>\n",
              "<style scoped>\n",
              "    .dataframe tbody tr th:only-of-type {\n",
              "        vertical-align: middle;\n",
              "    }\n",
              "\n",
              "    .dataframe tbody tr th {\n",
              "        vertical-align: top;\n",
              "    }\n",
              "\n",
              "    .dataframe thead th {\n",
              "        text-align: right;\n",
              "    }\n",
              "</style>\n",
              "<table border=\"1\" class=\"dataframe\">\n",
              "  <thead>\n",
              "    <tr style=\"text-align: right;\">\n",
              "      <th></th>\n",
              "      <th>Maths</th>\n",
              "      <th>Physics</th>\n",
              "      <th>Chemistry</th>\n",
              "    </tr>\n",
              "  </thead>\n",
              "  <tbody>\n",
              "    <tr>\n",
              "      <th>a</th>\n",
              "      <td>35.2</td>\n",
              "      <td>53</td>\n",
              "      <td>56</td>\n",
              "    </tr>\n",
              "    <tr>\n",
              "      <th>b</th>\n",
              "      <td>47.0</td>\n",
              "      <td>69</td>\n",
              "      <td>98</td>\n",
              "    </tr>\n",
              "    <tr>\n",
              "      <th>c</th>\n",
              "      <td>77.0</td>\n",
              "      <td>79</td>\n",
              "      <td>77</td>\n",
              "    </tr>\n",
              "    <tr>\n",
              "      <th>d</th>\n",
              "      <td>49.0</td>\n",
              "      <td>81</td>\n",
              "      <td>81</td>\n",
              "    </tr>\n",
              "    <tr>\n",
              "      <th>e</th>\n",
              "      <td>NaN</td>\n",
              "      <td>91</td>\n",
              "      <td>90</td>\n",
              "    </tr>\n",
              "  </tbody>\n",
              "</table>\n",
              "</div>"
            ],
            "text/plain": [
              "   Maths  Physics  Chemistry\n",
              "a   35.2       53         56\n",
              "b   47.0       69         98\n",
              "c   77.0       79         77\n",
              "d   49.0       81         81\n",
              "e    NaN       91         90"
            ]
          },
          "metadata": {
            "tags": []
          },
          "execution_count": 6
        }
      ]
    },
    {
      "cell_type": "markdown",
      "metadata": {
        "id": "PU00vRp9rvpH",
        "colab_type": "text"
      },
      "source": [
        "Write a Pandas program to compare the elements of the two Pandas Series.\n",
        "Sample Series: [2, 4, 6, 8, 10], [1, 3, 5, 7, 9]"
      ]
    },
    {
      "cell_type": "code",
      "metadata": {
        "id": "-l2e7ntKrwq9",
        "colab_type": "code",
        "colab": {}
      },
      "source": [
        "import pandas as pd\n",
        "ds1 = pd.Series([2, 4, 6, 8, 10])\n",
        "ds2 = pd.Series([1, 3, 5, 7, 10])\n",
        "print(\"Series1:\")\n",
        "print(ds1)\n",
        "print(\"Series2:\")\n",
        "print(ds2)\n",
        "print(\"Compare the elements of the said Series:\")\n",
        "print(\"Equals:\")\n",
        "print(ds1 == ds2)\n",
        "print(\"Greater than:\")\n",
        "print(ds1 > ds2)\n",
        "print(\"Less than:\")\n",
        "print(ds1 < ds2)"
      ],
      "execution_count": null,
      "outputs": []
    },
    {
      "cell_type": "markdown",
      "metadata": {
        "id": "jdgWiGd_haaS",
        "colab_type": "text"
      },
      "source": [
        "Numpyt example program"
      ]
    },
    {
      "cell_type": "code",
      "metadata": {
        "id": "QqUp5FEMsLp_",
        "colab_type": "code",
        "colab": {}
      },
      "source": [
        "import numpy as np\n",
        " \n",
        "np.random.seed(0)\t# seed for reproducibility\n",
        "\n",
        "x1 = np.random.randint(100, size=6)\t# One-dimensional array\n",
        "x2 = np.random.randint(100, size=(3, 4))\t# Two-dimensional array\n",
        "x3 = np.random.randint(100, size=(3, 4, 5))\t# Three-dimensional array print(x1)\n",
        "print(x2) \n",
        "print(x3)"
      ],
      "execution_count": null,
      "outputs": []
    }
  ]
}